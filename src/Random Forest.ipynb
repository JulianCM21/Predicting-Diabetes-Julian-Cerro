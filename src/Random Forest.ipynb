{
 "cells": [
  {
   "cell_type": "markdown",
   "metadata": {},
   "source": [
    "# Random Forest Algorithm "
   ]
  },
  {
   "cell_type": "code",
   "execution_count": 3,
   "metadata": {},
   "outputs": [],
   "source": [
    "import pandas as pd\n",
    "\n",
    "# Load the preprocessed training and testing data\n",
    "X_train = pd.read_csv(\"../data/processed/X_train_with_outliers_sel.csv\")\n",
    "X_test = pd.read_csv(\"../data/processed/X_test_with_outliers_sel.csv\")\n",
    "y_train = pd.read_csv(\"../data/processed/y_train.csv\").squeeze()\n",
    "y_test = pd.read_csv(\"../data/processed/y_test.csv\").squeeze()"
   ]
  },
  {
   "cell_type": "code",
   "execution_count": 5,
   "metadata": {},
   "outputs": [
    {
     "name": "stdout",
     "output_type": "stream",
     "text": [
      "Accuracy of the Random Forest model: 0.7727272727272727\n"
     ]
    }
   ],
   "source": [
    "from sklearn.ensemble import RandomForestClassifier\n",
    "from sklearn.metrics import accuracy_score\n",
    "\n",
    "rf_model = RandomForestClassifier(random_state=42)\n",
    "rf_model.fit(X_train, y_train)\n",
    "\n",
    "y_pred = rf_model.predict(X_test)\n",
    "\n",
    "accuracy = accuracy_score(y_test, y_pred)\n",
    "print(f\"Accuracy of the Random Forest model: {accuracy}\")"
   ]
  },
  {
   "cell_type": "code",
   "execution_count": null,
   "metadata": {},
   "outputs": [
    {
     "name": "stdout",
     "output_type": "stream",
     "text": [
      "Best parameters found: {'max_depth': 5, 'n_estimators': 200}\n",
      "Best cross-validated accuracy: 0.7459816073570572\n"
     ]
    }
   ],
   "source": [
    "from sklearn.model_selection import GridSearchCV\n",
    "\n",
    "#Hyperparameter grid\n",
    "param_grid = {\n",
    "    \"n_estimators\": [50, 100, 200],  \n",
    "    \"max_depth\": [5, 10, 20, None]  \n",
    "}\n",
    "\n",
    "#5-fold cross-validation\n",
    "grid_search = GridSearchCV(estimator=rf_model, param_grid=param_grid, cv=5, scoring=\"accuracy\", n_jobs=-1)\n",
    "grid_search.fit(X_train, y_train)\n",
    "\n",
    "best_rf_model = grid_search.best_estimator_\n",
    "print(f'Best parameters found: {grid_search.best_params_}') \n",
    "print(f'Best cross-validated accuracy: {grid_search.best_score_}')"
   ]
  },
  {
   "cell_type": "code",
   "execution_count": null,
   "metadata": {},
   "outputs": [
    {
     "name": "stdout",
     "output_type": "stream",
     "text": [
      "Accuracy of the optimized Random Forest model: 0.7857\n"
     ]
    }
   ],
   "source": [
    "#Prediction on the test data with the best model\n",
    "y_best_pred = best_rf_model.predict(X_test)\n",
    "\n",
    "#accuracy\n",
    "best_accuracy = accuracy_score(y_test, y_best_pred)\n",
    "print(f\"Accuracy of the optimized Random Forest model: {best_accuracy}\")"
   ]
  },
  {
   "cell_type": "code",
   "execution_count": 10,
   "metadata": {},
   "outputs": [
    {
     "name": "stdout",
     "output_type": "stream",
     "text": [
      "Optimized Random Forest model saved successfully.\n"
     ]
    }
   ],
   "source": [
    "from pickle import dump\n",
    "\n",
    "# Save the best model to a file for future use\n",
    "dump(best_rf_model, open(\"../src/ENC/optimized_random_forest_model.sav\", \"wb\"))\n",
    "print(\"Optimized Random Forest model saved successfully.\")"
   ]
  }
 ],
 "metadata": {
  "kernelspec": {
   "display_name": "Python 3",
   "language": "python",
   "name": "python3"
  },
  "language_info": {
   "codemirror_mode": {
    "name": "ipython",
    "version": 3
   },
   "file_extension": ".py",
   "mimetype": "text/x-python",
   "name": "python",
   "nbconvert_exporter": "python",
   "pygments_lexer": "ipython3",
   "version": "3.10.12"
  }
 },
 "nbformat": 4,
 "nbformat_minor": 2
}
